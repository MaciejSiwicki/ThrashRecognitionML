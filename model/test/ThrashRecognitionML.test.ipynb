{
 "cells": [
  {
   "cell_type": "code",
   "execution_count": 35,
   "metadata": {},
   "outputs": [],
   "source": [
    "import tensorflow as tf\n",
    "import matplotlib as mpl\n",
    "import matplotlib.pyplot as plt\n",
    "import numpy as np\n",
    "\n",
    "from sklearn.pipeline import make_pipeline\n",
    "from sklearn.preprocessing import StandardScaler\n",
    "\n",
    "from sklearn.neighbors import KNeighborsClassifier\n",
    "from sklearn.naive_bayes import GaussianNB\n",
    "from sklearn.svm import SVC\n",
    "from sklearn.tree import DecisionTreeClassifier"
   ]
  },
  {
   "cell_type": "code",
   "execution_count": 36,
   "metadata": {},
   "outputs": [
    {
     "name": "stdout",
     "output_type": "stream",
     "text": [
      "Found 286 files belonging to 6 classes.\n",
      "Using 229 files for training.\n",
      "Using 57 files for validation.\n"
     ]
    }
   ],
   "source": [
    "IMAGE_SIZE = 48\n",
    "BATCH_SIZE = 32\n",
    "\n",
    "( p_dataset,\n",
    "  q_dataset, ) = tf.keras.utils.image_dataset_from_directory('../../data/@/',\n",
    "                    batch_size=(BATCH_SIZE),\n",
    "                    image_size=(IMAGE_SIZE, IMAGE_SIZE),\n",
    "                    seed=0,\n",
    "                    subset='both',\n",
    "                    validation_split=0.2)\n",
    "  \n",
    "p_dataset = p_dataset.unbatch()\n",
    "q_dataset = q_dataset.unbatch()\n",
    "\n",
    "p_images = np.asarray(list(p_dataset.map(lambda x, y: x))).reshape(229, 48 * 48 * 3)\n",
    "p_labels = np.asarray(list(p_dataset.map(lambda x, y: y)))\n",
    "\n",
    "q_images = np.asarray(list(q_dataset.map(lambda x, y: x))).reshape(57, 48 * 48 * 3)\n",
    "q_labels = np.asarray(list(q_dataset.map(lambda x, y: y)))"
   ]
  },
  {
   "cell_type": "markdown",
   "metadata": {},
   "source": [
    "# DT"
   ]
  },
  {
   "cell_type": "code",
   "execution_count": 37,
   "metadata": {},
   "outputs": [
    {
     "data": {
      "text/plain": [
       "0.2807017543859649"
      ]
     },
     "execution_count": 37,
     "metadata": {},
     "output_type": "execute_result"
    }
   ],
   "source": [
    "clf = make_pipeline(StandardScaler(), DecisionTreeClassifier())\n",
    "clf.fit(p_images, p_labels)\n",
    "clf.score(q_images, q_labels)"
   ]
  },
  {
   "cell_type": "markdown",
   "metadata": {},
   "source": [
    "# NB"
   ]
  },
  {
   "cell_type": "code",
   "execution_count": 38,
   "metadata": {},
   "outputs": [
    {
     "data": {
      "text/plain": [
       "0.3684210526315789"
      ]
     },
     "execution_count": 38,
     "metadata": {},
     "output_type": "execute_result"
    }
   ],
   "source": [
    "clf = make_pipeline(StandardScaler(), GaussianNB())\n",
    "clf.fit(p_images, p_labels)\n",
    "clf.score(q_images, q_labels)"
   ]
  },
  {
   "cell_type": "markdown",
   "metadata": {},
   "source": [
    "# KNN"
   ]
  },
  {
   "cell_type": "code",
   "execution_count": 39,
   "metadata": {},
   "outputs": [
    {
     "data": {
      "text/plain": [
       "0.5614035087719298"
      ]
     },
     "execution_count": 39,
     "metadata": {},
     "output_type": "execute_result"
    }
   ],
   "source": [
    "clf = make_pipeline(StandardScaler(), KNeighborsClassifier(n_neighbors=20))\n",
    "clf.fit(p_images, p_labels)\n",
    "clf.score(q_images, q_labels)"
   ]
  },
  {
   "cell_type": "markdown",
   "metadata": {},
   "source": [
    "# SVC"
   ]
  },
  {
   "cell_type": "code",
   "execution_count": 40,
   "metadata": {},
   "outputs": [
    {
     "data": {
      "text/plain": [
       "0.5614035087719298"
      ]
     },
     "execution_count": 40,
     "metadata": {},
     "output_type": "execute_result"
    }
   ],
   "source": [
    "clf = make_pipeline(StandardScaler(), SVC(gamma='auto'))\n",
    "clf.fit(p_images, p_labels)\n",
    "clf.score(q_images, q_labels)"
   ]
  }
 ],
 "metadata": {
  "kernelspec": {
   "display_name": "Python 3",
   "language": "python",
   "name": "python3"
  },
  "language_info": {
   "codemirror_mode": {
    "name": "ipython",
    "version": 3
   },
   "file_extension": ".py",
   "mimetype": "text/x-python",
   "name": "python",
   "nbconvert_exporter": "python",
   "pygments_lexer": "ipython3",
   "version": "3.12.3"
  }
 },
 "nbformat": 4,
 "nbformat_minor": 2
}
